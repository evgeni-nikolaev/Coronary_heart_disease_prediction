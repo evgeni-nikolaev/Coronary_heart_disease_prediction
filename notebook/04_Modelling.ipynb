{
 "cells": [
  {
   "cell_type": "markdown",
   "metadata": {},
   "source": [
    "# Machine learning"
   ]
  },
  {
   "cell_type": "markdown",
   "metadata": {
    "toc": true
   },
   "source": [
    "<h1>Table of Contents<span class=\"tocSkip\"></span></h1>\n",
    "<div class=\"toc\"><ul class=\"toc-item\"><li><span><a href=\"#Import-necessary-packages\" data-toc-modified-id=\"Import-necessary-packages-1\"><span class=\"toc-item-num\">1&nbsp;&nbsp;</span>Import necessary packages</a></span></li><li><span><a href=\"#Read-the-datafile\" data-toc-modified-id=\"Read-the-datafile-2\"><span class=\"toc-item-num\">2&nbsp;&nbsp;</span>Read the datafile</a></span><ul class=\"toc-item\"><li><span><a href=\"#Select-the-top-ten-features\" data-toc-modified-id=\"Select-the-top-ten-features-2.1\"><span class=\"toc-item-num\">2.1&nbsp;&nbsp;</span>Select the top ten features</a></span></li><li><span><a href=\"#Split-data-into-train-and-test-set\" data-toc-modified-id=\"Split-data-into-train-and-test-set-2.2\"><span class=\"toc-item-num\">2.2&nbsp;&nbsp;</span>Split data into train and test set</a></span></li></ul></li><li><span><a href=\"#Evaluation-of-different-classifiers\" data-toc-modified-id=\"Evaluation-of-different-classifiers-3\"><span class=\"toc-item-num\">3&nbsp;&nbsp;</span>Evaluation of different classifiers</a></span><ul class=\"toc-item\"><li><span><a href=\"#K-Nearest-neighbor-(KNN)\" data-toc-modified-id=\"K-Nearest-neighbor-(KNN)-3.1\"><span class=\"toc-item-num\">3.1&nbsp;&nbsp;</span>K-Nearest neighbor (KNN)</a></span></li><li><span><a href=\"#Logistic-regression\" data-toc-modified-id=\"Logistic-regression-3.2\"><span class=\"toc-item-num\">3.2&nbsp;&nbsp;</span>Logistic regression</a></span></li><li><span><a href=\"#Random-forest\" data-toc-modified-id=\"Random-forest-3.3\"><span class=\"toc-item-num\">3.3&nbsp;&nbsp;</span>Random forest</a></span></li><li><span><a href=\"#Gradient-Boosting\" data-toc-modified-id=\"Gradient-Boosting-3.4\"><span class=\"toc-item-num\">3.4&nbsp;&nbsp;</span>Gradient Boosting</a></span></li><li><span><a href=\"#Support-Vector-Machine-(SVM)\" data-toc-modified-id=\"Support-Vector-Machine-(SVM)-3.5\"><span class=\"toc-item-num\">3.5&nbsp;&nbsp;</span>Support Vector Machine (SVM)</a></span></li><li><span><a href=\"#Naive-Bayes\" data-toc-modified-id=\"Naive-Bayes-3.6\"><span class=\"toc-item-num\">3.6&nbsp;&nbsp;</span>Naive Bayes</a></span></li></ul></li><li><span><a href=\"#Selection-of-the-best-model\" data-toc-modified-id=\"Selection-of-the-best-model-4\"><span class=\"toc-item-num\">4&nbsp;&nbsp;</span>Selection of the best model</a></span></li><li><span><a href=\"#Tuning-the-threshold\" data-toc-modified-id=\"Tuning-the-threshold-5\"><span class=\"toc-item-num\">5&nbsp;&nbsp;</span>Tuning the threshold</a></span></li><li><span><a href=\"#Will-undersampling-perform-better?\" data-toc-modified-id=\"Will-undersampling-perform-better?-6\"><span class=\"toc-item-num\">6&nbsp;&nbsp;</span>Will undersampling perform better?</a></span></li><li><span><a href=\"#Will-over-sampling-using-SMOTE-perform-better?\" data-toc-modified-id=\"Will-over-sampling-using-SMOTE-perform-better?-7\"><span class=\"toc-item-num\">7&nbsp;&nbsp;</span>Will over-sampling using SMOTE perform better?</a></span></li><li><span><a href=\"#Data-quantity-assessment\" data-toc-modified-id=\"Data-quantity-assessment-8\"><span class=\"toc-item-num\">8&nbsp;&nbsp;</span>Data quantity assessment</a></span></li></ul></div>"
   ]
  },
  {
   "cell_type": "markdown",
   "metadata": {},
   "source": [
    "## Import necessary packages"
   ]
  },
  {
   "cell_type": "code",
   "execution_count": 1,
   "metadata": {},
   "outputs": [],
   "source": [
    "#import necessary libraries\n",
    "import pandas as pd\n",
    "import numpy as np\n",
    "import matplotlib.pyplot as plt\n",
    "import seaborn as sns\n",
    "from sklearn.model_selection import train_test_split, cross_validate, GridSearchCV, learning_curve\n",
    "from sklearn.linear_model import LogisticRegression\n",
    "from sklearn.neighbors import KNeighborsClassifier\n",
    "from sklearn.svm import LinearSVC\n",
    "from sklearn.svm import SVC\n",
    "from sklearn.ensemble import RandomForestClassifier\n",
    "from sklearn.ensemble import ExtraTreesClassifier, GradientBoostingClassifier\n",
    "from sklearn.naive_bayes import GaussianNB\n",
    "from sklearn.pipeline import Pipeline\n",
    "from sklearn.metrics import confusion_matrix\n",
    "from sklearn.metrics import plot_confusion_matrix\n",
    "from sklearn.metrics import accuracy_score\n",
    "from sklearn.metrics import plot_roc_curve\n",
    "from sklearn.metrics import f1_score\n",
    "from sklearn.model_selection import cross_val_score\n",
    "from sklearn.metrics import classification_report\n",
    "from sklearn.metrics import fbeta_score\n",
    "from sklearn.metrics import roc_auc_score\n",
    "from sklearn.metrics import roc_curve\n",
    "from sklearn.metrics import precision_recall_curve\n",
    "from sklearn.model_selection import ShuffleSplit\n",
    "from collections import Counter\n",
    "from sklearn.datasets import make_classification\n",
    "from imblearn.over_sampling import SMOTE \n",
    "#to ensure clean outputs ignore the warning messages \n",
    "import warnings\n",
    "warnings.filterwarnings('ignore')"
   ]
  },
  {
   "cell_type": "markdown",
   "metadata": {},
   "source": [
    "## Read the datafile"
   ]
  },
  {
   "cell_type": "code",
   "execution_count": 2,
   "metadata": {},
   "outputs": [
    {
     "data": {
      "text/html": [
       "<div>\n",
       "<style scoped>\n",
       "    .dataframe tbody tr th:only-of-type {\n",
       "        vertical-align: middle;\n",
       "    }\n",
       "\n",
       "    .dataframe tbody tr th {\n",
       "        vertical-align: top;\n",
       "    }\n",
       "\n",
       "    .dataframe thead th {\n",
       "        text-align: right;\n",
       "    }\n",
       "</style>\n",
       "<table border=\"1\" class=\"dataframe\">\n",
       "  <thead>\n",
       "    <tr style=\"text-align: right;\">\n",
       "      <th></th>\n",
       "      <th>gender</th>\n",
       "      <th>education</th>\n",
       "      <th>currentSmoker</th>\n",
       "      <th>cigsPerDay</th>\n",
       "      <th>BPMeds</th>\n",
       "      <th>prevalentStroke</th>\n",
       "      <th>prevalentHyp</th>\n",
       "      <th>diabetes</th>\n",
       "      <th>totChol</th>\n",
       "      <th>sysBP</th>\n",
       "      <th>diaBP</th>\n",
       "      <th>BMI</th>\n",
       "      <th>heartRate</th>\n",
       "      <th>glucose</th>\n",
       "      <th>age_group</th>\n",
       "      <th>TenYearCHD</th>\n",
       "    </tr>\n",
       "  </thead>\n",
       "  <tbody>\n",
       "    <tr>\n",
       "      <th>0</th>\n",
       "      <td>1.0</td>\n",
       "      <td>1.0</td>\n",
       "      <td>0.0</td>\n",
       "      <td>0.00</td>\n",
       "      <td>0.0</td>\n",
       "      <td>0.0</td>\n",
       "      <td>0.0</td>\n",
       "      <td>0.0</td>\n",
       "      <td>-0.684211</td>\n",
       "      <td>-0.818605</td>\n",
       "      <td>-0.800000</td>\n",
       "      <td>0.320726</td>\n",
       "      <td>0.357143</td>\n",
       "      <td>-0.0625</td>\n",
       "      <td>-1.0</td>\n",
       "      <td>0</td>\n",
       "    </tr>\n",
       "    <tr>\n",
       "      <th>1</th>\n",
       "      <td>0.0</td>\n",
       "      <td>0.0</td>\n",
       "      <td>0.0</td>\n",
       "      <td>0.00</td>\n",
       "      <td>0.0</td>\n",
       "      <td>0.0</td>\n",
       "      <td>0.0</td>\n",
       "      <td>0.0</td>\n",
       "      <td>0.280702</td>\n",
       "      <td>-0.260465</td>\n",
       "      <td>-0.066667</td>\n",
       "      <td>0.675744</td>\n",
       "      <td>1.428571</td>\n",
       "      <td>-0.1250</td>\n",
       "      <td>0.0</td>\n",
       "      <td>0</td>\n",
       "    </tr>\n",
       "    <tr>\n",
       "      <th>2</th>\n",
       "      <td>1.0</td>\n",
       "      <td>-0.5</td>\n",
       "      <td>1.0</td>\n",
       "      <td>1.00</td>\n",
       "      <td>0.0</td>\n",
       "      <td>0.0</td>\n",
       "      <td>0.0</td>\n",
       "      <td>0.0</td>\n",
       "      <td>0.192982</td>\n",
       "      <td>-0.018605</td>\n",
       "      <td>-0.133333</td>\n",
       "      <td>-0.008069</td>\n",
       "      <td>0.000000</td>\n",
       "      <td>-0.5000</td>\n",
       "      <td>0.0</td>\n",
       "      <td>0</td>\n",
       "    </tr>\n",
       "    <tr>\n",
       "      <th>3</th>\n",
       "      <td>0.0</td>\n",
       "      <td>0.5</td>\n",
       "      <td>1.0</td>\n",
       "      <td>1.50</td>\n",
       "      <td>0.0</td>\n",
       "      <td>0.0</td>\n",
       "      <td>1.0</td>\n",
       "      <td>0.0</td>\n",
       "      <td>-0.157895</td>\n",
       "      <td>0.818605</td>\n",
       "      <td>0.866667</td>\n",
       "      <td>0.645487</td>\n",
       "      <td>-0.714286</td>\n",
       "      <td>1.5625</td>\n",
       "      <td>2.0</td>\n",
       "      <td>1</td>\n",
       "    </tr>\n",
       "    <tr>\n",
       "      <th>4</th>\n",
       "      <td>0.0</td>\n",
       "      <td>0.5</td>\n",
       "      <td>1.0</td>\n",
       "      <td>1.15</td>\n",
       "      <td>0.0</td>\n",
       "      <td>0.0</td>\n",
       "      <td>0.0</td>\n",
       "      <td>0.0</td>\n",
       "      <td>0.894737</td>\n",
       "      <td>0.074419</td>\n",
       "      <td>0.133333</td>\n",
       "      <td>-0.459909</td>\n",
       "      <td>0.714286</td>\n",
       "      <td>0.4375</td>\n",
       "      <td>0.0</td>\n",
       "      <td>0</td>\n",
       "    </tr>\n",
       "  </tbody>\n",
       "</table>\n",
       "</div>"
      ],
      "text/plain": [
       "   gender  education  currentSmoker  cigsPerDay  BPMeds  prevalentStroke  \\\n",
       "0     1.0        1.0            0.0        0.00     0.0              0.0   \n",
       "1     0.0        0.0            0.0        0.00     0.0              0.0   \n",
       "2     1.0       -0.5            1.0        1.00     0.0              0.0   \n",
       "3     0.0        0.5            1.0        1.50     0.0              0.0   \n",
       "4     0.0        0.5            1.0        1.15     0.0              0.0   \n",
       "\n",
       "   prevalentHyp  diabetes   totChol     sysBP     diaBP       BMI  heartRate  \\\n",
       "0           0.0       0.0 -0.684211 -0.818605 -0.800000  0.320726   0.357143   \n",
       "1           0.0       0.0  0.280702 -0.260465 -0.066667  0.675744   1.428571   \n",
       "2           0.0       0.0  0.192982 -0.018605 -0.133333 -0.008069   0.000000   \n",
       "3           1.0       0.0 -0.157895  0.818605  0.866667  0.645487  -0.714286   \n",
       "4           0.0       0.0  0.894737  0.074419  0.133333 -0.459909   0.714286   \n",
       "\n",
       "   glucose  age_group  TenYearCHD  \n",
       "0  -0.0625       -1.0           0  \n",
       "1  -0.1250        0.0           0  \n",
       "2  -0.5000        0.0           0  \n",
       "3   1.5625        2.0           1  \n",
       "4   0.4375        0.0           0  "
      ]
     },
     "execution_count": 2,
     "metadata": {},
     "output_type": "execute_result"
    }
   ],
   "source": [
    "df = pd.read_csv('03_FE_CHD_data.csv')\n",
    "df.head()"
   ]
  },
  {
   "cell_type": "code",
   "execution_count": 3,
   "metadata": {},
   "outputs": [
    {
     "data": {
      "text/html": [
       "<div>\n",
       "<style scoped>\n",
       "    .dataframe tbody tr th:only-of-type {\n",
       "        vertical-align: middle;\n",
       "    }\n",
       "\n",
       "    .dataframe tbody tr th {\n",
       "        vertical-align: top;\n",
       "    }\n",
       "\n",
       "    .dataframe thead th {\n",
       "        text-align: right;\n",
       "    }\n",
       "</style>\n",
       "<table border=\"1\" class=\"dataframe\">\n",
       "  <thead>\n",
       "    <tr style=\"text-align: right;\">\n",
       "      <th></th>\n",
       "      <th>count</th>\n",
       "      <th>mean</th>\n",
       "      <th>std</th>\n",
       "      <th>min</th>\n",
       "      <th>25%</th>\n",
       "      <th>50%</th>\n",
       "      <th>75%</th>\n",
       "      <th>max</th>\n",
       "    </tr>\n",
       "  </thead>\n",
       "  <tbody>\n",
       "    <tr>\n",
       "      <th>gender</th>\n",
       "      <td>3658.0</td>\n",
       "      <td>0.443685</td>\n",
       "      <td>0.496886</td>\n",
       "      <td>0.000000</td>\n",
       "      <td>0.000000</td>\n",
       "      <td>0.0</td>\n",
       "      <td>1.000000</td>\n",
       "      <td>1.000000</td>\n",
       "    </tr>\n",
       "    <tr>\n",
       "      <th>education</th>\n",
       "      <td>3658.0</td>\n",
       "      <td>-0.009841</td>\n",
       "      <td>0.511328</td>\n",
       "      <td>-0.500000</td>\n",
       "      <td>-0.500000</td>\n",
       "      <td>0.0</td>\n",
       "      <td>0.500000</td>\n",
       "      <td>1.000000</td>\n",
       "    </tr>\n",
       "    <tr>\n",
       "      <th>currentSmoker</th>\n",
       "      <td>3658.0</td>\n",
       "      <td>0.489065</td>\n",
       "      <td>0.499949</td>\n",
       "      <td>0.000000</td>\n",
       "      <td>0.000000</td>\n",
       "      <td>0.0</td>\n",
       "      <td>1.000000</td>\n",
       "      <td>1.000000</td>\n",
       "    </tr>\n",
       "    <tr>\n",
       "      <th>cigsPerDay</th>\n",
       "      <td>3658.0</td>\n",
       "      <td>0.451271</td>\n",
       "      <td>0.596080</td>\n",
       "      <td>0.000000</td>\n",
       "      <td>0.000000</td>\n",
       "      <td>0.0</td>\n",
       "      <td>1.000000</td>\n",
       "      <td>3.500000</td>\n",
       "    </tr>\n",
       "    <tr>\n",
       "      <th>BPMeds</th>\n",
       "      <td>3658.0</td>\n",
       "      <td>0.030344</td>\n",
       "      <td>0.171557</td>\n",
       "      <td>0.000000</td>\n",
       "      <td>0.000000</td>\n",
       "      <td>0.0</td>\n",
       "      <td>0.000000</td>\n",
       "      <td>1.000000</td>\n",
       "    </tr>\n",
       "    <tr>\n",
       "      <th>prevalentStroke</th>\n",
       "      <td>3658.0</td>\n",
       "      <td>0.005741</td>\n",
       "      <td>0.075561</td>\n",
       "      <td>0.000000</td>\n",
       "      <td>0.000000</td>\n",
       "      <td>0.0</td>\n",
       "      <td>0.000000</td>\n",
       "      <td>1.000000</td>\n",
       "    </tr>\n",
       "    <tr>\n",
       "      <th>prevalentHyp</th>\n",
       "      <td>3658.0</td>\n",
       "      <td>0.311646</td>\n",
       "      <td>0.463229</td>\n",
       "      <td>0.000000</td>\n",
       "      <td>0.000000</td>\n",
       "      <td>0.0</td>\n",
       "      <td>1.000000</td>\n",
       "      <td>1.000000</td>\n",
       "    </tr>\n",
       "    <tr>\n",
       "      <th>diabetes</th>\n",
       "      <td>3658.0</td>\n",
       "      <td>0.027064</td>\n",
       "      <td>0.162292</td>\n",
       "      <td>0.000000</td>\n",
       "      <td>0.000000</td>\n",
       "      <td>0.0</td>\n",
       "      <td>0.000000</td>\n",
       "      <td>1.000000</td>\n",
       "    </tr>\n",
       "    <tr>\n",
       "      <th>totChol</th>\n",
       "      <td>3658.0</td>\n",
       "      <td>0.049960</td>\n",
       "      <td>0.773644</td>\n",
       "      <td>-2.122807</td>\n",
       "      <td>-0.491228</td>\n",
       "      <td>0.0</td>\n",
       "      <td>0.508772</td>\n",
       "      <td>6.421053</td>\n",
       "    </tr>\n",
       "    <tr>\n",
       "      <th>sysBP</th>\n",
       "      <td>3658.0</td>\n",
       "      <td>0.162625</td>\n",
       "      <td>0.821837</td>\n",
       "      <td>-1.655814</td>\n",
       "      <td>-0.409302</td>\n",
       "      <td>0.0</td>\n",
       "      <td>0.590698</td>\n",
       "      <td>6.213953</td>\n",
       "    </tr>\n",
       "    <tr>\n",
       "      <th>diaBP</th>\n",
       "      <td>3658.0</td>\n",
       "      <td>0.061135</td>\n",
       "      <td>0.798284</td>\n",
       "      <td>-2.266667</td>\n",
       "      <td>-0.466667</td>\n",
       "      <td>0.0</td>\n",
       "      <td>0.533333</td>\n",
       "      <td>4.033333</td>\n",
       "    </tr>\n",
       "    <tr>\n",
       "      <th>BMI</th>\n",
       "      <td>3658.0</td>\n",
       "      <td>0.081251</td>\n",
       "      <td>0.820091</td>\n",
       "      <td>-1.984871</td>\n",
       "      <td>-0.463944</td>\n",
       "      <td>0.0</td>\n",
       "      <td>0.536056</td>\n",
       "      <td>6.337872</td>\n",
       "    </tr>\n",
       "    <tr>\n",
       "      <th>heartRate</th>\n",
       "      <td>3658.0</td>\n",
       "      <td>0.052195</td>\n",
       "      <td>0.855823</td>\n",
       "      <td>-2.214286</td>\n",
       "      <td>-0.500000</td>\n",
       "      <td>0.0</td>\n",
       "      <td>0.500000</td>\n",
       "      <td>4.857143</td>\n",
       "    </tr>\n",
       "    <tr>\n",
       "      <th>glucose</th>\n",
       "      <td>3658.0</td>\n",
       "      <td>0.240808</td>\n",
       "      <td>1.494010</td>\n",
       "      <td>-2.375000</td>\n",
       "      <td>-0.437500</td>\n",
       "      <td>0.0</td>\n",
       "      <td>0.562500</td>\n",
       "      <td>19.750000</td>\n",
       "    </tr>\n",
       "    <tr>\n",
       "      <th>age_group</th>\n",
       "      <td>3658.0</td>\n",
       "      <td>0.400765</td>\n",
       "      <td>0.931108</td>\n",
       "      <td>-1.000000</td>\n",
       "      <td>0.000000</td>\n",
       "      <td>0.0</td>\n",
       "      <td>1.000000</td>\n",
       "      <td>2.000000</td>\n",
       "    </tr>\n",
       "    <tr>\n",
       "      <th>TenYearCHD</th>\n",
       "      <td>3658.0</td>\n",
       "      <td>0.152269</td>\n",
       "      <td>0.359331</td>\n",
       "      <td>0.000000</td>\n",
       "      <td>0.000000</td>\n",
       "      <td>0.0</td>\n",
       "      <td>0.000000</td>\n",
       "      <td>1.000000</td>\n",
       "    </tr>\n",
       "  </tbody>\n",
       "</table>\n",
       "</div>"
      ],
      "text/plain": [
       "                  count      mean       std       min       25%  50%  \\\n",
       "gender           3658.0  0.443685  0.496886  0.000000  0.000000  0.0   \n",
       "education        3658.0 -0.009841  0.511328 -0.500000 -0.500000  0.0   \n",
       "currentSmoker    3658.0  0.489065  0.499949  0.000000  0.000000  0.0   \n",
       "cigsPerDay       3658.0  0.451271  0.596080  0.000000  0.000000  0.0   \n",
       "BPMeds           3658.0  0.030344  0.171557  0.000000  0.000000  0.0   \n",
       "prevalentStroke  3658.0  0.005741  0.075561  0.000000  0.000000  0.0   \n",
       "prevalentHyp     3658.0  0.311646  0.463229  0.000000  0.000000  0.0   \n",
       "diabetes         3658.0  0.027064  0.162292  0.000000  0.000000  0.0   \n",
       "totChol          3658.0  0.049960  0.773644 -2.122807 -0.491228  0.0   \n",
       "sysBP            3658.0  0.162625  0.821837 -1.655814 -0.409302  0.0   \n",
       "diaBP            3658.0  0.061135  0.798284 -2.266667 -0.466667  0.0   \n",
       "BMI              3658.0  0.081251  0.820091 -1.984871 -0.463944  0.0   \n",
       "heartRate        3658.0  0.052195  0.855823 -2.214286 -0.500000  0.0   \n",
       "glucose          3658.0  0.240808  1.494010 -2.375000 -0.437500  0.0   \n",
       "age_group        3658.0  0.400765  0.931108 -1.000000  0.000000  0.0   \n",
       "TenYearCHD       3658.0  0.152269  0.359331  0.000000  0.000000  0.0   \n",
       "\n",
       "                      75%        max  \n",
       "gender           1.000000   1.000000  \n",
       "education        0.500000   1.000000  \n",
       "currentSmoker    1.000000   1.000000  \n",
       "cigsPerDay       1.000000   3.500000  \n",
       "BPMeds           0.000000   1.000000  \n",
       "prevalentStroke  0.000000   1.000000  \n",
       "prevalentHyp     1.000000   1.000000  \n",
       "diabetes         0.000000   1.000000  \n",
       "totChol          0.508772   6.421053  \n",
       "sysBP            0.590698   6.213953  \n",
       "diaBP            0.533333   4.033333  \n",
       "BMI              0.536056   6.337872  \n",
       "heartRate        0.500000   4.857143  \n",
       "glucose          0.562500  19.750000  \n",
       "age_group        1.000000   2.000000  \n",
       "TenYearCHD       0.000000   1.000000  "
      ]
     },
     "execution_count": 3,
     "metadata": {},
     "output_type": "execute_result"
    }
   ],
   "source": [
    "df.describe().T"
   ]
  },
  {
   "cell_type": "markdown",
   "metadata": {},
   "source": [
    "### Select the top ten features"
   ]
  },
  {
   "cell_type": "code",
   "execution_count": 4,
   "metadata": {},
   "outputs": [],
   "source": [
    "top_10_features = ['sysBP', 'BMI', 'totChol', 'glucose', 'diaBP', 'heartRate', 'age_group', 'cigsPerDay', 'education', 'gender']"
   ]
  },
  {
   "cell_type": "code",
   "execution_count": 5,
   "metadata": {},
   "outputs": [],
   "source": [
    "X = df[top_10_features]"
   ]
  },
  {
   "cell_type": "code",
   "execution_count": 6,
   "metadata": {},
   "outputs": [],
   "source": [
    "#target variable\n",
    "y = df.TenYearCHD"
   ]
  },
  {
   "cell_type": "markdown",
   "metadata": {},
   "source": [
    "### Split data into train and test set"
   ]
  },
  {
   "cell_type": "code",
   "execution_count": 7,
   "metadata": {},
   "outputs": [],
   "source": [
    "X_train, X_test, y_train, y_test = train_test_split(X, y, test_size=0.30, random_state=99)"
   ]
  },
  {
   "cell_type": "markdown",
   "metadata": {},
   "source": [
    "## Evaluation of different classifiers"
   ]
  },
  {
   "cell_type": "markdown",
   "metadata": {},
   "source": [
    "Here, I am going to evaluate six different models. For each of these model, I will perform hyperparameter tuning using grid search. I will select the model that yield the higest ROC-AUC score."
   ]
  },
  {
   "cell_type": "markdown",
   "metadata": {},
   "source": [
    "### K-Nearest neighbor (KNN)"
   ]
  },
  {
   "cell_type": "code",
   "execution_count": 8,
   "metadata": {},
   "outputs": [
    {
     "data": {
      "text/plain": [
       "GridSearchCV(cv=5, estimator=KNeighborsClassifier(), n_jobs=4,\n",
       "             param_grid={'n_neighbors': array([ 1,  2,  3,  4,  5,  6,  7,  8,  9, 10, 11, 12, 13, 14, 15, 16, 17,\n",
       "       18, 19, 20, 21, 22, 23, 24, 25, 26, 27, 28, 29, 30, 31, 32, 33, 34,\n",
       "       35, 36, 37, 38, 39, 40, 41, 42, 43, 44, 45, 46, 47, 48, 49])},\n",
       "             scoring='roc_auc')"
      ]
     },
     "execution_count": 8,
     "metadata": {},
     "output_type": "execute_result"
    }
   ],
   "source": [
    "#run KNN model\n",
    "param_grid = {'n_neighbors':np.arange(1,50)}\n",
    "knn = KNeighborsClassifier()\n",
    "knn_cv= GridSearchCV(knn,param_grid,cv=5, n_jobs =4, scoring = 'roc_auc')\n",
    "knn_cv.fit(X_train,y_train)"
   ]
  },
  {
   "cell_type": "code",
   "execution_count": 9,
   "metadata": {},
   "outputs": [
    {
     "name": "stdout",
     "output_type": "stream",
     "text": [
      "Best Parameters: {'n_neighbors': 42}\n"
     ]
    }
   ],
   "source": [
    "print(\"Best Parameters: \" + str(knn_cv.best_params_))"
   ]
  },
  {
   "cell_type": "code",
   "execution_count": 10,
   "metadata": {},
   "outputs": [
    {
     "name": "stdout",
     "output_type": "stream",
     "text": [
      "0.696594342789995\n"
     ]
    }
   ],
   "source": [
    "#compute roc_auc for the best hyperparameter\n",
    "knn = KNeighborsClassifier(n_neighbors=42)\n",
    "knn.fit(X_train, y_train)\n",
    "cv_scores_test= cross_val_score(knn,X_test,y_test,cv=5,scoring='roc_auc')\n",
    "cv_scores_knn_test= cv_scores_test.mean()\n",
    "print(cv_scores_knn_test)"
   ]
  },
  {
   "cell_type": "markdown",
   "metadata": {},
   "source": [
    "### Logistic regression"
   ]
  },
  {
   "cell_type": "code",
   "execution_count": 11,
   "metadata": {},
   "outputs": [
    {
     "data": {
      "text/plain": [
       "GridSearchCV(cv=5, estimator=LogisticRegression(), n_jobs=4,\n",
       "             param_grid={'C': [0.0001, 0.001, 0.01, 0.1, 1, 5, 10, 100],\n",
       "                         'penalty': ['l1', 'l2'], 'solver': ['liblinear']},\n",
       "             scoring='roc_auc')"
      ]
     },
     "execution_count": 11,
     "metadata": {},
     "output_type": "execute_result"
    }
   ],
   "source": [
    "#run logistic regression model\n",
    "param_grid = {'penalty': ['l1', 'l2'], 'C': [0.0001, 0.001,0.01,0.1,1,5,10,100], 'solver': ['liblinear']}\n",
    "logreg = LogisticRegression()\n",
    "logreg_cv= GridSearchCV(estimator=logreg, param_grid=param_grid, cv=5, n_jobs =4, scoring = 'roc_auc')\n",
    "logreg_cv.fit(X_train,y_train)"
   ]
  },
  {
   "cell_type": "code",
   "execution_count": 12,
   "metadata": {},
   "outputs": [
    {
     "name": "stdout",
     "output_type": "stream",
     "text": [
      "Best Parameters: {'C': 1, 'penalty': 'l1', 'solver': 'liblinear'}\n"
     ]
    }
   ],
   "source": [
    "print(\"Best Parameters: \" + str(logreg_cv.best_params_))"
   ]
  },
  {
   "cell_type": "code",
   "execution_count": 13,
   "metadata": {},
   "outputs": [
    {
     "name": "stdout",
     "output_type": "stream",
     "text": [
      "0.7324493872754742\n"
     ]
    }
   ],
   "source": [
    "#compute roc_auc for train and test set\n",
    "logreg = LogisticRegression(penalty = 'l1', C=1, solver='liblinear')\n",
    "logreg.fit(X_train,y_train)\n",
    "cv_scores_test= cross_val_score(logreg,X_test,y_test,cv=5,scoring='roc_auc')\n",
    "cv_scores_logreg_test= cv_scores_test.mean()\n",
    "print(cv_scores_logreg_test)"
   ]
  },
  {
   "cell_type": "markdown",
   "metadata": {},
   "source": [
    "### Random forest"
   ]
  },
  {
   "cell_type": "code",
   "execution_count": 14,
   "metadata": {},
   "outputs": [
    {
     "data": {
      "text/plain": [
       "GridSearchCV(cv=5, estimator=RandomForestClassifier(), n_jobs=4,\n",
       "             param_grid={'criterion': ['gini', 'entropy'],\n",
       "                         'max_depth': [5, 6, 7, 8, 9, 10, 15],\n",
       "                         'n_estimators': [10, 50, 100, 200, 300]},\n",
       "             scoring='roc_auc')"
      ]
     },
     "execution_count": 14,
     "metadata": {},
     "output_type": "execute_result"
    }
   ],
   "source": [
    "#run random forest model\n",
    "param_grid = {\n",
    "    'criterion': ['gini', 'entropy'],\n",
    "    'max_depth': [5,6,7,8,9,10,15],\n",
    "    'n_estimators': [10, 50, 100, 200, 300]\n",
    "}\n",
    "rf = RandomForestClassifier()\n",
    "rf_cv= GridSearchCV(estimator=rf, param_grid=param_grid, cv=5, n_jobs =4, scoring = 'roc_auc')\n",
    "rf_cv.fit(X_train,y_train)"
   ]
  },
  {
   "cell_type": "code",
   "execution_count": 15,
   "metadata": {},
   "outputs": [
    {
     "name": "stdout",
     "output_type": "stream",
     "text": [
      "Best Parameters: {'criterion': 'gini', 'max_depth': 5, 'n_estimators': 100}\n"
     ]
    }
   ],
   "source": [
    "print(\"Best Parameters: \" + str(rf_cv.best_params_))"
   ]
  },
  {
   "cell_type": "code",
   "execution_count": 16,
   "metadata": {},
   "outputs": [
    {
     "name": "stdout",
     "output_type": "stream",
     "text": [
      "0.7131049185831795\n"
     ]
    }
   ],
   "source": [
    "#compute roc_auc for train and test set\n",
    "rf = RandomForestClassifier(criterion = 'gini', max_depth=5, n_estimators=100)\n",
    "rf.fit(X_train,y_train)\n",
    "cv_scores_test= cross_val_score(rf,X_test,y_test,cv=5,scoring='roc_auc')\n",
    "cv_scores_rf_test= cv_scores_test.mean()\n",
    "print(cv_scores_rf_test)"
   ]
  },
  {
   "cell_type": "markdown",
   "metadata": {},
   "source": [
    "### Gradient Boosting"
   ]
  },
  {
   "cell_type": "code",
   "execution_count": 17,
   "metadata": {},
   "outputs": [
    {
     "data": {
      "text/plain": [
       "GridSearchCV(cv=5,\n",
       "             estimator=GradientBoostingClassifier(max_depth=4,\n",
       "                                                  max_features='sqrt',\n",
       "                                                  random_state=10,\n",
       "                                                  subsample=1),\n",
       "             n_jobs=4,\n",
       "             param_grid={'learning_rate': [0.15, 0.1, 0.05, 0.01, 0.005, 0.001],\n",
       "                         'max_depth': [5, 10, 15, 20],\n",
       "                         'max_features': [0.3, 0.1],\n",
       "                         'min_samples_leaf': [100, 150],\n",
       "                         'n_estimators': [100, 200, 500, 1000]},\n",
       "             scoring='roc_auc')"
      ]
     },
     "execution_count": 17,
     "metadata": {},
     "output_type": "execute_result"
    }
   ],
   "source": [
    "#run gradient boosting\n",
    "param_grid = {'learning_rate':[0.15,0.1,0.05,0.01,0.005,0.001], 'n_estimators':[100,200,500,1000],\n",
    "              'max_depth': [5, 10, 15, 20], 'min_samples_leaf': [100,150],'max_features': [0.3, 0.1]}\n",
    "GB = GradientBoostingClassifier(max_depth=4, min_samples_split=2, min_samples_leaf=1, subsample=1,max_features='sqrt', random_state=10)\n",
    "GB_cv= GridSearchCV(estimator=GB, param_grid=param_grid, cv=5, n_jobs =4, scoring = 'roc_auc')\n",
    "GB_cv.fit(X_train,y_train)"
   ]
  },
  {
   "cell_type": "code",
   "execution_count": 18,
   "metadata": {},
   "outputs": [
    {
     "name": "stdout",
     "output_type": "stream",
     "text": [
      "Best Parameters: {'learning_rate': 0.005, 'max_depth': 5, 'max_features': 0.1, 'min_samples_leaf': 150, 'n_estimators': 500}\n"
     ]
    }
   ],
   "source": [
    "print(\"Best Parameters: \" + str(GB_cv.best_params_))"
   ]
  },
  {
   "cell_type": "code",
   "execution_count": 19,
   "metadata": {},
   "outputs": [
    {
     "name": "stdout",
     "output_type": "stream",
     "text": [
      "0.7166414302501259\n"
     ]
    }
   ],
   "source": [
    "#compute roc_auc for train and test set\n",
    "GB = GradientBoostingClassifier(learning_rate=0.005, max_depth= 5, max_features= 0.1, min_samples_leaf= 150, n_estimators= 500)\n",
    "GB.fit(X_train,y_train)\n",
    "cv_scores_test= cross_val_score(GB,X_test,y_test,cv=5,scoring='roc_auc')\n",
    "cv_scores_gbc_test= cv_scores_test.mean()\n",
    "print(cv_scores_gbc_test)"
   ]
  },
  {
   "cell_type": "markdown",
   "metadata": {},
   "source": [
    "### Support Vector Machine (SVM)"
   ]
  },
  {
   "cell_type": "code",
   "execution_count": 20,
   "metadata": {},
   "outputs": [
    {
     "data": {
      "text/plain": [
       "GridSearchCV(cv=5, estimator=SVC(), n_jobs=4,\n",
       "             param_grid=[{'C': [1, 10, 100], 'kernel': ['linear']},\n",
       "                         {'C': [1, 10, 100], 'gamma': [0.001, 0.0001],\n",
       "                          'kernel': ['rbf']}],\n",
       "             scoring='roc_auc')"
      ]
     },
     "execution_count": 20,
     "metadata": {},
     "output_type": "execute_result"
    }
   ],
   "source": [
    "#run support vector machine model\n",
    "param_grid = [\n",
    "  {'C': [1, 10, 100], 'kernel': ['linear']},\n",
    "  {'C': [1, 10, 100], 'gamma': [0.001, 0.0001], 'kernel': ['rbf']}\n",
    " ]\n",
    "svm = SVC()\n",
    "svm_cv= GridSearchCV(estimator=svm, param_grid=param_grid, cv=5, n_jobs =4, scoring = 'roc_auc')\n",
    "svm_cv.fit(X_train,y_train)"
   ]
  },
  {
   "cell_type": "code",
   "execution_count": 21,
   "metadata": {},
   "outputs": [
    {
     "name": "stdout",
     "output_type": "stream",
     "text": [
      "Best Parameters: {'C': 10, 'gamma': 0.001, 'kernel': 'rbf'}\n"
     ]
    }
   ],
   "source": [
    "print(\"Best Parameters: \" + str(svm_cv.best_params_))"
   ]
  },
  {
   "cell_type": "code",
   "execution_count": 22,
   "metadata": {},
   "outputs": [
    {
     "name": "stdout",
     "output_type": "stream",
     "text": [
      "0.6677085781433607\n"
     ]
    }
   ],
   "source": [
    "#compute roc_auc for train and test set\n",
    "svm = SVC(C=10, kernel = 'rbf', gamma=0.001, probability=True)\n",
    "svm.fit(X_train,y_train)\n",
    "cv_scores_test= cross_val_score(svm,X_test,y_test,cv=5,scoring='roc_auc')\n",
    "cv_scores_svm_test= cv_scores_test.mean()\n",
    "print(cv_scores_svm_test)"
   ]
  },
  {
   "cell_type": "markdown",
   "metadata": {},
   "source": [
    "### Naive Bayes"
   ]
  },
  {
   "cell_type": "code",
   "execution_count": 23,
   "metadata": {},
   "outputs": [
    {
     "name": "stdout",
     "output_type": "stream",
     "text": [
      "0.7182848749370488\n"
     ]
    }
   ],
   "source": [
    "#run Naive Bayes\n",
    "GB = GaussianNB()\n",
    "GB.fit(X_train,y_train)\n",
    "cv_scores_test= cross_val_score(GB,X_test,y_test,cv=5,scoring='roc_auc')\n",
    "cv_scores_nb_test= cv_scores_test.mean()\n",
    "print(cv_scores_nb_test)"
   ]
  },
  {
   "cell_type": "markdown",
   "metadata": {},
   "source": [
    "## Selection of the best model"
   ]
  },
  {
   "cell_type": "code",
   "execution_count": 24,
   "metadata": {},
   "outputs": [
    {
     "data": {
      "text/html": [
       "<div>\n",
       "<style scoped>\n",
       "    .dataframe tbody tr th:only-of-type {\n",
       "        vertical-align: middle;\n",
       "    }\n",
       "\n",
       "    .dataframe tbody tr th {\n",
       "        vertical-align: top;\n",
       "    }\n",
       "\n",
       "    .dataframe thead th {\n",
       "        text-align: right;\n",
       "    }\n",
       "</style>\n",
       "<table border=\"1\" class=\"dataframe\">\n",
       "  <thead>\n",
       "    <tr style=\"text-align: right;\">\n",
       "      <th></th>\n",
       "      <th>Algorithm</th>\n",
       "      <th>ROC-AUC score</th>\n",
       "    </tr>\n",
       "  </thead>\n",
       "  <tbody>\n",
       "    <tr>\n",
       "      <th>1</th>\n",
       "      <td>Logistic Regression</td>\n",
       "      <td>0.732449</td>\n",
       "    </tr>\n",
       "    <tr>\n",
       "      <th>5</th>\n",
       "      <td>Naive Bayes</td>\n",
       "      <td>0.718285</td>\n",
       "    </tr>\n",
       "    <tr>\n",
       "      <th>3</th>\n",
       "      <td>Gradient Boost</td>\n",
       "      <td>0.716641</td>\n",
       "    </tr>\n",
       "    <tr>\n",
       "      <th>2</th>\n",
       "      <td>Random Forest</td>\n",
       "      <td>0.713105</td>\n",
       "    </tr>\n",
       "    <tr>\n",
       "      <th>0</th>\n",
       "      <td>KNN</td>\n",
       "      <td>0.696594</td>\n",
       "    </tr>\n",
       "    <tr>\n",
       "      <th>4</th>\n",
       "      <td>SVM</td>\n",
       "      <td>0.667709</td>\n",
       "    </tr>\n",
       "  </tbody>\n",
       "</table>\n",
       "</div>"
      ],
      "text/plain": [
       "             Algorithm  ROC-AUC score\n",
       "1  Logistic Regression       0.732449\n",
       "5          Naive Bayes       0.718285\n",
       "3       Gradient Boost       0.716641\n",
       "2        Random Forest       0.713105\n",
       "0                  KNN       0.696594\n",
       "4                  SVM       0.667709"
      ]
     },
     "execution_count": 24,
     "metadata": {},
     "output_type": "execute_result"
    }
   ],
   "source": [
    "#prepare table to show ROC-AUC score for different model\n",
    "myLabels = ['KNN','Logistic Regression','Random Forest','Gradient Boost','SVM', 'Naive Bayes']\n",
    "score_test= [cv_scores_knn_test, cv_scores_logreg_test, cv_scores_rf_test, cv_scores_gbc_test, cv_scores_svm_test, cv_scores_nb_test]\n",
    "\n",
    "score_tab = pd.DataFrame(list(zip(myLabels, score_test)), \n",
    "               columns =['Algorithm', 'ROC-AUC score']) \n",
    "score_tab.sort_values(\"ROC-AUC score\", ascending=False, inplace=True)\n",
    "score_tab\n"
   ]
  },
  {
   "cell_type": "markdown",
   "metadata": {},
   "source": [
    "When I evaluated different algorithm, I found that __logistic regression__ performed best based on roc_auc score with roc_auc score of 0.73."
   ]
  },
  {
   "cell_type": "code",
   "execution_count": 25,
   "metadata": {},
   "outputs": [
    {
     "data": {
      "text/plain": [
       "0.7420708868596193"
      ]
     },
     "execution_count": 25,
     "metadata": {},
     "output_type": "execute_result"
    }
   ],
   "source": [
    "#get the roc_auc_score\n",
    "y_pred_prob=logreg.predict_proba(X_test)[:,1]\n",
    "roc_auc_score(y_test, y_pred_prob)"
   ]
  },
  {
   "cell_type": "code",
   "execution_count": 26,
   "metadata": {},
   "outputs": [
    {
     "data": {
      "image/png": "[encoded data removed]",
      "text/plain": [
       "<Figure size 432x288 with 1 Axes>"
      ]
     },
     "metadata": {},
     "output_type": "display_data"
    }
   ],
   "source": [
    "#plot roc curve\n",
    "plt.style.use(\"dark_background\")\n",
    "fpr,tpr,thresholds=roc_curve(y_test, y_pred_prob)\n",
    "plt.plot([0,1],[0,1], 'k--',color='white')\n",
    "plt.plot(fpr,tpr,label='logreg')\n",
    "plt.xlabel('FPR')\n",
    "plt.ylabel('TPR')\n",
    "plt.title('Logistic regression ROC curve')\n",
    "plt.show()"
   ]
  },
  {
   "cell_type": "code",
   "execution_count": 27,
   "metadata": {},
   "outputs": [
    {
     "name": "stdout",
     "output_type": "stream",
     "text": [
      "              precision    recall  f1-score   support\n",
      "\n",
      "           0       0.85      1.00      0.92       923\n",
      "           1       0.73      0.06      0.12       175\n",
      "\n",
      "    accuracy                           0.85      1098\n",
      "   macro avg       0.79      0.53      0.52      1098\n",
      "weighted avg       0.83      0.85      0.79      1098\n",
      "\n",
      "[[919   4]\n",
      " [164  11]]\n"
     ]
    }
   ],
   "source": [
    "#lets check the scoring metrics of logistic regression in more detail\n",
    "logreg = LogisticRegression(penalty = 'l2', C=0.1, solver='liblinear')\n",
    "logreg.fit(X_train,y_train)\n",
    "y_pred = logreg.predict(X_test)\n",
    "print(classification_report(y_test, y_pred))\n",
    "print(confusion_matrix(y_test, y_pred))"
   ]
  },
  {
   "cell_type": "markdown",
   "metadata": {},
   "source": [
    "There is an issue with this prediction. The above model has done pretty well in predicting the true negatives. However, the model does miserably poor jobs in predicting the true postives. This is an issue of imbalanced dataset. Our data is highly imbalanced and in such instance, default decision threshold generally performs poorly. Therefore, in the next step, I will tune the threshold to improve recall of the model."
   ]
  },
  {
   "cell_type": "markdown",
   "metadata": {},
   "source": [
    "## Tuning the threshold"
   ]
  },
  {
   "cell_type": "markdown",
   "metadata": {},
   "source": [
    "In this project, I am more interested to correctly identify the people with CHD. That is, I want to maximize the recall value. However, the recall value for positive cases (occurrence of CHD) is very low (0.06). Therefore, in the next step, I will identify the threshold at which the F1 score is maximum by giving more weight to recall (beta = 2) "
   ]
  },
  {
   "cell_type": "code",
   "execution_count": 28,
   "metadata": {},
   "outputs": [],
   "source": [
    "def adjust_pred_prob(y_pred_prob, new_threshold):\n",
    "    \"\"\"Adjust predicted probabilities to match new threshold value\"\"\"\n",
    "    \n",
    "    return [1 if y >= new_threshold else 0 for y in y_pred_prob]"
   ]
  },
  {
   "cell_type": "code",
   "execution_count": 29,
   "metadata": {},
   "outputs": [
    {
     "name": "stdout",
     "output_type": "stream",
     "text": [
      "0.5637467476149177\n",
      "optimum threshold 0.148\n"
     ]
    }
   ],
   "source": [
    "# Calculate F1 Score Curve\n",
    "f_beta = []\n",
    "thresholds = np.arange(0, 1, 0.001)\n",
    "for t in thresholds:\n",
    "    adjusted_y_pred = adjust_pred_prob(y_pred_prob, new_threshold=t)\n",
    "    f = fbeta_score(y_test, adjusted_y_pred, beta=2)\n",
    "    f_beta.append(f)\n",
    "\n",
    "max_score = max(f_beta)\n",
    "max_index = f_beta.index(max_score)\n",
    "print(max_score)\n",
    "print('optimum threshold', thresholds[max_index])"
   ]
  },
  {
   "cell_type": "code",
   "execution_count": 30,
   "metadata": {},
   "outputs": [
    {
     "name": "stdout",
     "output_type": "stream",
     "text": [
      "              precision    recall  f1-score   support\n",
      "\n",
      "           0       0.93      0.67      0.78       923\n",
      "           1       0.30      0.73      0.42       175\n",
      "\n",
      "    accuracy                           0.68      1098\n",
      "   macro avg       0.61      0.70      0.60      1098\n",
      "weighted avg       0.83      0.68      0.72      1098\n",
      "\n",
      "[[621 302]\n",
      " [ 47 128]]\n"
     ]
    }
   ],
   "source": [
    "#classification report\n",
    "y_pred = (logreg.predict_proba(X_test)[:,1] >= 0.168).astype('int')\n",
    "print(classification_report(y_test, y_pred))\n",
    "print(confusion_matrix(y_test, y_pred))"
   ]
  },
  {
   "cell_type": "markdown",
   "metadata": {},
   "source": [
    "# Plot demonstrating F1 score, precision and recall at different thresholds"
   ]
  },
  {
   "cell_type": "code",
   "execution_count": 31,
   "metadata": {},
   "outputs": [],
   "source": [
    "pred_prob_lr = logreg.predict_proba(X_test)[:,1]"
   ]
  },
  {
   "cell_type": "code",
   "execution_count": 32,
   "metadata": {},
   "outputs": [],
   "source": [
    "# Calculate Precision and Recall Curve\n",
    "precision, recall, thresholds = precision_recall_curve(y_test, y_pred_prob)\n",
    "thresholds = np.append(thresholds, 1)"
   ]
  },
  {
   "cell_type": "code",
   "execution_count": 33,
   "metadata": {},
   "outputs": [],
   "source": [
    "# Calculate F2 Score Curve\n",
    "f2_points = []\n",
    "\n",
    "for t in thresholds:\n",
    "        adjusted_y_pred = adjust_pred_prob(y_pred_prob, new_threshold=t)\n",
    "        new_f2 = fbeta_score(y_test, adjusted_y_pred, beta = 2)\n",
    "        f2_points.append(new_f2)"
   ]
  },
  {
   "cell_type": "code",
   "execution_count": 34,
   "metadata": {},
   "outputs": [
    {
     "data": {
      "image/png": "[encoded data removed]",
      "text/plain": [
       "<Figure size 720x360 with 1 Axes>"
      ]
     },
     "metadata": {},
     "output_type": "display_data"
    }
   ],
   "source": [
    "#plot precision, recall and F2 score for various threshold\n",
    "plt.figure(figsize=(10,5))\n",
    "plt.plot(thresholds, precision, color='blue')\n",
    "plt.plot(thresholds, recall, color='red')\n",
    "plt.plot(thresholds, f2_points, color='green')\n",
    "plt.title('Precision Recall Curve - Logistic regression')\n",
    "plt.legend(('Precision', 'Recall', 'F2-Score'))\n",
    "plt.xlabel('Threshold')\n",
    "plt.ylabel('Proportion')\n",
    "plt.axvline(x=.168, color='white', linestyle='--')\n",
    "plt.text(.14,.50,'High Risk Threshold',rotation=90)\n",
    "plt.axvline(x=.50, color='white', linestyle='--')\n",
    "plt.text(.475,.50,'Default Threshold',rotation=90)\n",
    "plt.show()"
   ]
  },
  {
   "cell_type": "markdown",
   "metadata": {},
   "source": [
    "## Will undersampling perform better?"
   ]
  },
  {
   "cell_type": "code",
   "execution_count": 35,
   "metadata": {},
   "outputs": [],
   "source": [
    "#split data into train and test set\n",
    "X = df.drop(columns=['TenYearCHD'])\n",
    "y = df.TenYearCHD\n",
    "X_train, X_test, y_train, y_test = train_test_split(X, y, test_size=0.30, random_state=99)"
   ]
  },
  {
   "cell_type": "code",
   "execution_count": 36,
   "metadata": {},
   "outputs": [],
   "source": [
    "#join the training dataset\n",
    "new_df = pd.concat([pd.DataFrame(X_train).reset_index(drop=True), pd.DataFrame(y_train).reset_index(drop=True)], axis=1)"
   ]
  },
  {
   "cell_type": "code",
   "execution_count": 37,
   "metadata": {},
   "outputs": [
    {
     "data": {
      "text/plain": [
       "0    2178\n",
       "1     382\n",
       "Name: TenYearCHD, dtype: int64"
      ]
     },
     "execution_count": 37,
     "metadata": {},
     "output_type": "execute_result"
    }
   ],
   "source": [
    "#count the number of rows for each class\n",
    "new_df.TenYearCHD.value_counts()"
   ]
  },
  {
   "cell_type": "code",
   "execution_count": 38,
   "metadata": {},
   "outputs": [],
   "source": [
    "# Shuffle the new df\n",
    "shuffled_df = new_df.sample(frac=1,random_state=4)\n",
    "# Put all the CHD in a separate dataset\n",
    "CHD_df = new_df.loc[new_df['TenYearCHD'] == 1]"
   ]
  },
  {
   "cell_type": "code",
   "execution_count": 39,
   "metadata": {},
   "outputs": [
    {
     "data": {
      "text/plain": [
       "0    382\n",
       "1    382\n",
       "Name: TenYearCHD, dtype: int64"
      ]
     },
     "execution_count": 39,
     "metadata": {},
     "output_type": "execute_result"
    }
   ],
   "source": [
    "#Randomly select 437 observations from the non-fraud (majority class)\n",
    "non_CHD_df = shuffled_df.loc[shuffled_df['TenYearCHD'] == 0].sample(n=382,random_state=42)\n",
    "\n",
    "# Concatenate both dataframes again\n",
    "resampled_df = pd.concat([CHD_df, non_CHD_df])\n",
    "\n",
    "# check new class counts\n",
    "resampled_df.TenYearCHD.value_counts()"
   ]
  },
  {
   "cell_type": "code",
   "execution_count": 40,
   "metadata": {},
   "outputs": [],
   "source": [
    "#new training dataset for undersampling\n",
    "X_train = resampled_df.drop('TenYearCHD', axis=1)\n",
    "y_train = resampled_df.TenYearCHD"
   ]
  },
  {
   "cell_type": "code",
   "execution_count": 41,
   "metadata": {},
   "outputs": [
    {
     "data": {
      "text/html": [
       "<div>\n",
       "<style scoped>\n",
       "    .dataframe tbody tr th:only-of-type {\n",
       "        vertical-align: middle;\n",
       "    }\n",
       "\n",
       "    .dataframe tbody tr th {\n",
       "        vertical-align: top;\n",
       "    }\n",
       "\n",
       "    .dataframe thead th {\n",
       "        text-align: right;\n",
       "    }\n",
       "</style>\n",
       "<table border=\"1\" class=\"dataframe\">\n",
       "  <thead>\n",
       "    <tr style=\"text-align: right;\">\n",
       "      <th></th>\n",
       "      <th>Algorithm</th>\n",
       "      <th>Roc_auc_score</th>\n",
       "    </tr>\n",
       "  </thead>\n",
       "  <tbody>\n",
       "    <tr>\n",
       "      <th>1</th>\n",
       "      <td>Logistic Regression</td>\n",
       "      <td>0.72788</td>\n",
       "    </tr>\n",
       "    <tr>\n",
       "      <th>5</th>\n",
       "      <td>Naive Bayes</td>\n",
       "      <td>0.709182</td>\n",
       "    </tr>\n",
       "    <tr>\n",
       "      <th>3</th>\n",
       "      <td>Gradient Boost</td>\n",
       "      <td>0.694836</td>\n",
       "    </tr>\n",
       "    <tr>\n",
       "      <th>2</th>\n",
       "      <td>Random Forest</td>\n",
       "      <td>0.676938</td>\n",
       "    </tr>\n",
       "    <tr>\n",
       "      <th>4</th>\n",
       "      <td>SVM</td>\n",
       "      <td>0.597167</td>\n",
       "    </tr>\n",
       "    <tr>\n",
       "      <th>0</th>\n",
       "      <td>KNN</td>\n",
       "      <td>0.577551</td>\n",
       "    </tr>\n",
       "  </tbody>\n",
       "</table>\n",
       "</div>"
      ],
      "text/plain": [
       "             Algorithm Roc_auc_score\n",
       "1  Logistic Regression       0.72788\n",
       "5          Naive Bayes      0.709182\n",
       "3       Gradient Boost      0.694836\n",
       "2        Random Forest      0.676938\n",
       "4                  SVM      0.597167\n",
       "0                  KNN      0.577551"
      ]
     },
     "execution_count": 41,
     "metadata": {},
     "output_type": "execute_result"
    }
   ],
   "source": [
    "#run various machine learning model and compute roc-auc score\n",
    "models = [\n",
    "          ('KNN', KNeighborsClassifier()),      \n",
    "          ('Logistic Regression', LogisticRegression()), \n",
    "          ('Random Forest', RandomForestClassifier()),\n",
    "          ('Gradient Boost', GradientBoostingClassifier()),\n",
    "          ('SVM', SVC()),\n",
    "          ('Naive Bayes', GaussianNB())\n",
    "            ]\n",
    "    \n",
    "names=[]\n",
    "roc_auc_score = []\n",
    "for name, model in models:\n",
    "    model.fit(X_train, y_train)\n",
    "    cv_scores_test= cross_val_score(model,X_test,y_test,cv=5,scoring='roc_auc')\n",
    "    cv_scores_test_mean= cv_scores_test.mean()\n",
    "    names.append(name)\n",
    "    roc_auc_score.append(cv_scores_test_mean)\n",
    "\n",
    "score = pd.DataFrame([names, roc_auc_score]).T\n",
    "score.columns = ['Algorithm', 'Roc_auc_score']\n",
    "score.sort_values(\"Roc_auc_score\", ascending=False, inplace=True)\n",
    "score"
   ]
  },
  {
   "cell_type": "code",
   "execution_count": 42,
   "metadata": {},
   "outputs": [
    {
     "name": "stdout",
     "output_type": "stream",
     "text": [
      "              precision    recall  f1-score   support\n",
      "\n",
      "           0       0.93      0.64      0.76       923\n",
      "           1       0.28      0.73      0.40       175\n",
      "\n",
      "    accuracy                           0.65      1098\n",
      "   macro avg       0.60      0.68      0.58      1098\n",
      "weighted avg       0.82      0.65      0.70      1098\n",
      "\n",
      "[[589 334]\n",
      " [ 47 128]]\n"
     ]
    }
   ],
   "source": [
    "#fit the best model\n",
    "logreg = LogisticRegression()\n",
    "logreg.fit(X_train,y_train)\n",
    "y_pred = logreg.predict(X_test)\n",
    "print(classification_report(y_test, y_pred))\n",
    "print(confusion_matrix(y_test, y_pred))"
   ]
  },
  {
   "cell_type": "code",
   "execution_count": 43,
   "metadata": {},
   "outputs": [
    {
     "name": "stdout",
     "output_type": "stream",
     "text": [
      "0.5628058727569332\n",
      "optimum threshold 0.458\n"
     ]
    }
   ],
   "source": [
    "# Calculate F2 Score Curve\n",
    "y_pred_prob=logreg.predict_proba(X_test)[:,1]\n",
    "f_beta = []\n",
    "thresholds = np.arange(0, 1, 0.001)\n",
    "for t in thresholds:\n",
    "    adjusted_y_pred = adjust_pred_prob(y_pred_prob, new_threshold=t)\n",
    "    f = fbeta_score(y_test, adjusted_y_pred, beta=2)\n",
    "    f_beta.append(f)\n",
    "\n",
    "max_score = max(f_beta)\n",
    "max_index = f_beta.index(max_score)\n",
    "print(max_score)\n",
    "print('optimum threshold', thresholds[max_index])"
   ]
  },
  {
   "cell_type": "code",
   "execution_count": 44,
   "metadata": {},
   "outputs": [
    {
     "name": "stdout",
     "output_type": "stream",
     "text": [
      "              precision    recall  f1-score   support\n",
      "\n",
      "           0       0.94      0.58      0.72       923\n",
      "           1       0.26      0.79      0.39       175\n",
      "\n",
      "    accuracy                           0.61      1098\n",
      "   macro avg       0.60      0.68      0.55      1098\n",
      "weighted avg       0.83      0.61      0.66      1098\n",
      "\n",
      "[[535 388]\n",
      " [ 37 138]]\n"
     ]
    }
   ],
   "source": [
    "#calssification report\n",
    "y_pred = (logreg.predict_proba(X_test)[:,1] >= 0.458).astype('int')\n",
    "print(classification_report(y_test, y_pred))\n",
    "print(confusion_matrix(y_test, y_pred))"
   ]
  },
  {
   "cell_type": "markdown",
   "metadata": {},
   "source": [
    "Logistic regression with Undersampling did not perform better than the complete dataset."
   ]
  },
  {
   "cell_type": "markdown",
   "metadata": {},
   "source": [
    "## Will over-sampling using SMOTE perform better?"
   ]
  },
  {
   "cell_type": "code",
   "execution_count": 45,
   "metadata": {},
   "outputs": [
    {
     "name": "stdout",
     "output_type": "stream",
     "text": [
      "Original dataset shape Counter({0: 3101, 1: 557})\n"
     ]
    }
   ],
   "source": [
    "print('Original dataset shape %s' % Counter(y))"
   ]
  },
  {
   "cell_type": "code",
   "execution_count": 46,
   "metadata": {},
   "outputs": [
    {
     "name": "stdout",
     "output_type": "stream",
     "text": [
      "Before oversampling training dataset shape Counter({0: 2185, 1: 375})\n"
     ]
    }
   ],
   "source": [
    "#split data into train and test sample\n",
    "X = df.drop(columns=['TenYearCHD'])\n",
    "y = df.TenYearCHD\n",
    "X_train, X_test, y_train, y_test = train_test_split(X, y, test_size=0.3, random_state=0)\n",
    "print('Before oversampling training dataset shape %s' % Counter(y_train))"
   ]
  },
  {
   "cell_type": "code",
   "execution_count": 47,
   "metadata": {},
   "outputs": [
    {
     "name": "stdout",
     "output_type": "stream",
     "text": [
      "Resampled dataset shape Counter({0: 2185, 1: 2185})\n"
     ]
    }
   ],
   "source": [
    "#oversample the training set\n",
    "sm = SMOTE(random_state=42)\n",
    "X_train, y_train = sm.fit_resample(X_train, y_train)\n",
    "print('Resampled dataset shape %s' % Counter(y_train))\n"
   ]
  },
  {
   "cell_type": "code",
   "execution_count": 48,
   "metadata": {},
   "outputs": [
    {
     "data": {
      "text/html": [
       "<div>\n",
       "<style scoped>\n",
       "    .dataframe tbody tr th:only-of-type {\n",
       "        vertical-align: middle;\n",
       "    }\n",
       "\n",
       "    .dataframe tbody tr th {\n",
       "        vertical-align: top;\n",
       "    }\n",
       "\n",
       "    .dataframe thead th {\n",
       "        text-align: right;\n",
       "    }\n",
       "</style>\n",
       "<table border=\"1\" class=\"dataframe\">\n",
       "  <thead>\n",
       "    <tr style=\"text-align: right;\">\n",
       "      <th></th>\n",
       "      <th>Algorithm</th>\n",
       "      <th>Roc_auc_score</th>\n",
       "    </tr>\n",
       "  </thead>\n",
       "  <tbody>\n",
       "    <tr>\n",
       "      <th>1</th>\n",
       "      <td>Logistic Regression</td>\n",
       "      <td>0.744788</td>\n",
       "    </tr>\n",
       "    <tr>\n",
       "      <th>5</th>\n",
       "      <td>Naive Bayes</td>\n",
       "      <td>0.740123</td>\n",
       "    </tr>\n",
       "    <tr>\n",
       "      <th>2</th>\n",
       "      <td>Random Forest</td>\n",
       "      <td>0.710177</td>\n",
       "    </tr>\n",
       "    <tr>\n",
       "      <th>3</th>\n",
       "      <td>Gradient Boost</td>\n",
       "      <td>0.686513</td>\n",
       "    </tr>\n",
       "    <tr>\n",
       "      <th>4</th>\n",
       "      <td>SVM</td>\n",
       "      <td>0.659956</td>\n",
       "    </tr>\n",
       "    <tr>\n",
       "      <th>0</th>\n",
       "      <td>KNN</td>\n",
       "      <td>0.610288</td>\n",
       "    </tr>\n",
       "  </tbody>\n",
       "</table>\n",
       "</div>"
      ],
      "text/plain": [
       "             Algorithm Roc_auc_score\n",
       "1  Logistic Regression      0.744788\n",
       "5          Naive Bayes      0.740123\n",
       "2        Random Forest      0.710177\n",
       "3       Gradient Boost      0.686513\n",
       "4                  SVM      0.659956\n",
       "0                  KNN      0.610288"
      ]
     },
     "execution_count": 48,
     "metadata": {},
     "output_type": "execute_result"
    }
   ],
   "source": [
    "#run various machine learning model and compute roc-auc score\n",
    "models = [\n",
    "          ('KNN', KNeighborsClassifier()),      \n",
    "          ('Logistic Regression', LogisticRegression()), \n",
    "          ('Random Forest', RandomForestClassifier()),\n",
    "          ('Gradient Boost', GradientBoostingClassifier()),\n",
    "          ('SVM', SVC()),\n",
    "          ('Naive Bayes', GaussianNB())\n",
    "            ]\n",
    "    \n",
    "names=[]\n",
    "roc_auc_score = []\n",
    "for name, model in models:\n",
    "    model.fit(X_train, y_train)\n",
    "    cv_scores_test= cross_val_score(model,X_test,y_test,cv=5,scoring='roc_auc')\n",
    "    cv_scores_test_mean= cv_scores_test.mean()\n",
    "    names.append(name)\n",
    "    roc_auc_score.append(cv_scores_test_mean)\n",
    "\n",
    "score = pd.DataFrame([names, roc_auc_score]).T\n",
    "score.columns = ['Algorithm', 'Roc_auc_score']\n",
    "score.sort_values(\"Roc_auc_score\", ascending=False, inplace=True)\n",
    "score"
   ]
  },
  {
   "cell_type": "code",
   "execution_count": 49,
   "metadata": {},
   "outputs": [
    {
     "name": "stdout",
     "output_type": "stream",
     "text": [
      "              precision    recall  f1-score   support\n",
      "\n",
      "           0       0.93      0.66      0.77       916\n",
      "           1       0.30      0.74      0.43       182\n",
      "\n",
      "    accuracy                           0.67      1098\n",
      "   macro avg       0.61      0.70      0.60      1098\n",
      "weighted avg       0.82      0.67      0.71      1098\n",
      "\n",
      "[[601 315]\n",
      " [ 47 135]]\n"
     ]
    }
   ],
   "source": [
    "#fit the best model\n",
    "log_reg = LogisticRegression()\n",
    "log_reg.fit(X_train,y_train)\n",
    "y_pred = log_reg.predict(X_test)\n",
    "print(classification_report(y_test, y_pred))\n",
    "print(confusion_matrix(y_test, y_pred))"
   ]
  },
  {
   "cell_type": "code",
   "execution_count": 50,
   "metadata": {},
   "outputs": [
    {
     "name": "stdout",
     "output_type": "stream",
     "text": [
      "0.5809731299927378\n",
      "optimum threshold 0.392\n"
     ]
    }
   ],
   "source": [
    "# Calculate F1 Score Curve\n",
    "y_pred_prob=logreg.predict_proba(X_test)[:,1]\n",
    "f_beta = []\n",
    "thresholds = np.arange(0, 1.041, 0.001)\n",
    "for t in thresholds:\n",
    "    adjusted_y_pred = adjust_pred_prob(y_pred_prob, new_threshold=t)\n",
    "    f = fbeta_score(y_test, adjusted_y_pred, beta=2)\n",
    "    f_beta.append(f)\n",
    "\n",
    "max_score = max(f_beta)\n",
    "max_index = f_beta.index(max_score)\n",
    "print(max_score)\n",
    "print('optimum threshold', thresholds[max_index])"
   ]
  },
  {
   "cell_type": "code",
   "execution_count": 51,
   "metadata": {},
   "outputs": [
    {
     "name": "stdout",
     "output_type": "stream",
     "text": [
      "              precision    recall  f1-score   support\n",
      "\n",
      "           0       0.95      0.47      0.63       916\n",
      "           1       0.25      0.88      0.39       182\n",
      "\n",
      "    accuracy                           0.53      1098\n",
      "   macro avg       0.60      0.67      0.51      1098\n",
      "weighted avg       0.83      0.53      0.59      1098\n",
      "\n",
      "[[427 489]\n",
      " [ 22 160]]\n"
     ]
    }
   ],
   "source": [
    "#classification report\n",
    "y_pred = (logreg.predict_proba(X_test)[:,1] >= 0.392).astype('int')\n",
    "print(classification_report(y_test, y_pred))\n",
    "print(confusion_matrix(y_test, y_pred))"
   ]
  },
  {
   "cell_type": "markdown",
   "metadata": {},
   "source": [
    "Logistic regression with oversampling also did not perform better than the complete dataset. Therefore, our final model is logistic regression with full dataset using threshold of 0.168."
   ]
  },
  {
   "cell_type": "markdown",
   "metadata": {},
   "source": [
    "## Data quantity assessment"
   ]
  },
  {
   "cell_type": "code",
   "execution_count": 52,
   "metadata": {},
   "outputs": [],
   "source": [
    "def plot_learning_curve(estimator, title, X, y, ylim, cv, n_jobs=1, train_sizes=np.linspace(.1, 1.0, 10)):\n",
    "    plt.figure()\n",
    "    plt.title(title)\n",
    "    plt.xlabel(\"Training examples\")\n",
    "    plt.ylabel(\"Score\")\n",
    "    train_sizes, train_scores, test_scores = learning_curve(estimator, X, y, cv=cv, n_jobs=n_jobs, train_sizes=train_sizes)\n",
    "    train_scores_mean = np.mean(train_scores, axis=1)\n",
    "    train_scores_std = np.std(train_scores, axis=1)\n",
    "    test_scores_mean = np.mean(test_scores, axis=1)\n",
    "    test_scores_std = np.std(test_scores, axis=1)\n",
    "    plt.grid()\n",
    "    plt.fill_between(train_sizes, train_scores_mean - train_scores_std,\n",
    "                 train_scores_mean + train_scores_std, alpha=0.1,\n",
    "                 color=\"r\")\n",
    "    plt.fill_between(train_sizes, test_scores_mean - test_scores_std,\n",
    "                 test_scores_mean + test_scores_std, alpha=0.1, color=\"g\")\n",
    "    plt.plot(train_sizes, train_scores_mean, 'o-', color=\"r\",\n",
    "         label=\"Training score\")\n",
    "    plt.plot(train_sizes, test_scores_mean, 'o-', color=\"g\",\n",
    "         label=\"Cross-validation score\")\n",
    "    plt.legend(loc=\"best\")\n",
    "    return plt"
   ]
  },
  {
   "cell_type": "code",
   "execution_count": 53,
   "metadata": {},
   "outputs": [
    {
     "data": {
      "image/png": "[encoded data removed]",
      "text/plain": [
       "<Figure size 640x480 with 1 Axes>"
      ]
     },
     "metadata": {},
     "output_type": "display_data"
    }
   ],
   "source": [
    "#plot learning curve\n",
    "X = df.drop(columns=['TenYearCHD'])\n",
    "y = df.TenYearCHD\n",
    "X_train, X_test, y_train, y_test = train_test_split(X, y, test_size=0.30, random_state=99)\n",
    "title = \"Learning Curves (Logistic regression)\"\n",
    "# Cross validation with 100 iterations to get smoother mean test and train\n",
    "# score curves, each time with 20% data randomly selected as a validation set.\n",
    "cv = ShuffleSplit(n_splits=100, test_size=0.3, random_state=0)\n",
    "\n",
    "estimator = LogisticRegression(penalty = 'l1', C=1, solver='liblinear', random_state=1)\n",
    "plt.style.use('default')\n",
    "\n",
    "plot_learning_curve(estimator, title, X_train, y_train, ylim=(0.8, 1),\n",
    "                    cv=cv, n_jobs=4)\n",
    "\n",
    "plt.show()"
   ]
  },
  {
   "cell_type": "markdown",
   "metadata": {},
   "source": [
    "The above plot shows that training and cross-validation scores are converging together which suggest that additional data will probably not imporove the model."
   ]
  },
  {
   "cell_type": "code",
   "execution_count": null,
   "metadata": {},
   "outputs": [],
   "source": []
  }
 ],
 "metadata": {
  "kernelspec": {
   "display_name": "Python 3",
   "language": "python",
   "name": "python3"
  },
  "language_info": {
   "codemirror_mode": {
    "name": "ipython",
    "version": 3
   },
   "file_extension": ".py",
   "mimetype": "text/x-python",
   "name": "python",
   "nbconvert_exporter": "python",
   "pygments_lexer": "ipython3",
   "version": "3.8.5"
  },
  "toc": {
   "base_numbering": 1,
   "nav_menu": {},
   "number_sections": true,
   "sideBar": true,
   "skip_h1_title": true,
   "title_cell": "Table of Contents",
   "title_sidebar": "Contents",
   "toc_cell": true,
   "toc_position": {
    "height": "calc(100% - 180px)",
    "left": "10px",
    "top": "150px",
    "width": "322.5px"
   },
   "toc_section_display": true,
   "toc_window_display": true
  }
 },
 "nbformat": 4,
 "nbformat_minor": 4
}
